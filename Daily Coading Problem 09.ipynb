{
 "cells": [
  {
   "cell_type": "markdown",
   "id": "390b2d59",
   "metadata": {},
   "source": [
    "# Daily Coading Problem 09"
   ]
  },
  {
   "cell_type": "markdown",
   "id": "6b6c60c0",
   "metadata": {},
   "source": [
    "This problem was asked by Airbnb.\n",
    "\n",
    "Given a list of integers, write a function that returns the largest sum of non-adjacent numbers. Numbers can be 0 or negative.\n",
    "\n",
    "For example, [2, 4, 6, 2, 5] should return 13, since we pick 2, 6, and 5. [5, 1, 1, 5] should return 10, since we pick 5 and 5.\n",
    "\n",
    "Follow-up: Can you do this in O(N) time and constant space?"
   ]
  },
  {
   "cell_type": "markdown",
   "id": "2deead35",
   "metadata": {},
   "source": [
    "You really really need to know the fact that our memo dictionary consumes O(N) memory and also that our recursion is consuming memory for the recursion stack, O(N) as well."
   ]
  },
  {
   "cell_type": "code",
   "execution_count": 7,
   "id": "2e8f07be",
   "metadata": {},
   "outputs": [],
   "source": [
    "def max_non_adjacent_sum(arr):\n",
    "  memo = {}\n",
    "  memo[-2] = 0\n",
    "  memo[-1] = 0\n",
    "\n",
    "  N = len(arr)\n",
    "  for i in range(N):\n",
    "    memo[i] = max(\n",
    "      arr[i],\n",
    "      arr[i] + memo[i - 2],\n",
    "      memo[i - 1],\n",
    "    )\n",
    "\n",
    "  return memo[N - 1]\n",
    "\n",
    "assert(max_non_adjacent_sum([2, 4, 6, 2, 5]) == 13)\n"
   ]
  },
  {
   "cell_type": "code",
   "execution_count": null,
   "id": "2f25baf3",
   "metadata": {},
   "outputs": [],
   "source": []
  }
 ],
 "metadata": {
  "kernelspec": {
   "display_name": "Python 3 (ipykernel)",
   "language": "python",
   "name": "python3"
  },
  "language_info": {
   "codemirror_mode": {
    "name": "ipython",
    "version": 3
   },
   "file_extension": ".py",
   "mimetype": "text/x-python",
   "name": "python",
   "nbconvert_exporter": "python",
   "pygments_lexer": "ipython3",
   "version": "3.8.10"
  }
 },
 "nbformat": 4,
 "nbformat_minor": 5
}
